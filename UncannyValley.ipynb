{
 "cells": [
  {
   "cell_type": "markdown",
   "metadata": {},
   "source": [
    "# BIG CRAZY ADJUSTMENT 2.0 4X4 TURBO DIESEL FULL POWER SAYAJIN"
   ]
  },
  {
   "cell_type": "markdown",
   "metadata": {},
   "source": [
    "Hello people, today I'll explain how we did our logistic adjustment for the data obtained reggarding the categorization of faces. There are 2 main ways to do it:\n",
    "\n",
    "1) We use a full deterministic algorithm based on minimization of the error between the adjusted curve and the data points\n",
    "\n",
    "2) We make use of statistical distributions to acquire the most probable value for each parameter inside our curve\n",
    "\n",
    "We'll be using the second, it's more appropriate to our scenario. Since our dataset is based on data retrived for a population of individuals, it's resonable to expect that each individual will behave in an unique way. Therefore, when considering the total population, we most likely will find a most repeated value for a given parameter measured, that is, a value that is most probable for a individual to have. However, some other parameters might still be found. That situation gives us a parameter distribution, configuring a probability distribution function for our measured parameter. That's way a statistical approach is better.\n",
    "\n",
    "Now, we will starting setting up the code, the algorithm used for this fitting will be the ABC rejection. ABC stands for Approximate Bayesian Computation, the algorithm takes a prior distribution (which we must choose), than it takes $N$ trials of random numbers given by that specifically distribution. After drawing a specific number, it computes the curve with that number being our parameter (or parameters, if we give more than one adjustable parameter and more than one prior) and checks the error, that is, the distance between a point in the generated curve and the actual data point. If that error is lower than a specific value (given by $\\epsilon$, which we also choose), than that value is taken as a possible. After the $N$ trials, we get a distribution of the most accepted values, and the most probable value that explain the data."
   ]
  },
  {
   "cell_type": "code",
   "execution_count": 7,
   "metadata": {},
   "outputs": [],
   "source": [
    "import numpy as np\n",
    "import matplotlib.pyplot as plt\n",
    "import scipy.stats as stats\n",
    "import pandas as pd\n",
    "from scipy.optimize import curve_fit"
   ]
  },
  {
   "cell_type": "code",
   "execution_count": 2,
   "metadata": {},
   "outputs": [
    {
     "data": {
      "text/html": [
       "<div>\n",
       "<style scoped>\n",
       "    .dataframe tbody tr th:only-of-type {\n",
       "        vertical-align: middle;\n",
       "    }\n",
       "\n",
       "    .dataframe tbody tr th {\n",
       "        vertical-align: top;\n",
       "    }\n",
       "\n",
       "    .dataframe thead th {\n",
       "        text-align: right;\n",
       "    }\n",
       "</style>\n",
       "<table border=\"1\" class=\"dataframe\">\n",
       "  <thead>\n",
       "    <tr style=\"text-align: right;\">\n",
       "      <th></th>\n",
       "      <th>Erro Mulheres Faces Masculinas</th>\n",
       "    </tr>\n",
       "  </thead>\n",
       "  <tbody>\n",
       "    <tr>\n",
       "      <td>0</td>\n",
       "      <td>0.012881</td>\n",
       "    </tr>\n",
       "    <tr>\n",
       "      <td>1</td>\n",
       "      <td>0.012881</td>\n",
       "    </tr>\n",
       "    <tr>\n",
       "      <td>2</td>\n",
       "      <td>0.017554</td>\n",
       "    </tr>\n",
       "    <tr>\n",
       "      <td>3</td>\n",
       "      <td>0.049171</td>\n",
       "    </tr>\n",
       "    <tr>\n",
       "      <td>4</td>\n",
       "      <td>0.068508</td>\n",
       "    </tr>\n",
       "  </tbody>\n",
       "</table>\n",
       "</div>"
      ],
      "text/plain": [
       "   Erro Mulheres Faces Masculinas\n",
       "0                        0.012881\n",
       "1                        0.012881\n",
       "2                        0.017554\n",
       "3                        0.049171\n",
       "4                        0.068508"
      ]
     },
     "execution_count": 2,
     "metadata": {},
     "output_type": "execute_result"
    }
   ],
   "source": [
    "url = 'https://raw.githubusercontent.com/PedroHPCintra/ValedaEstranhezaZikadaGalera/master/MulheresFacesmas.txt'\n",
    "Dados = pd.read_csv(url)\n",
    "Dados.head(5)\n",
    "\n",
    "url2 = 'https://raw.githubusercontent.com/PedroHPCintra/ValedaEstranhezaZikadaGalera/master/ErrMulheresFacesmas.txt'\n",
    "DadosErr = pd.read_csv(url2)\n",
    "DadosErr.head(5)"
   ]
  },
  {
   "cell_type": "code",
   "execution_count": 3,
   "metadata": {},
   "outputs": [
    {
     "data": {
      "text/plain": [
       "Text(0, 0.5, 'Categorização como real')"
      ]
     },
     "execution_count": 3,
     "metadata": {},
     "output_type": "execute_result"
    },
    {
     "data": {
      "image/png": "[encoded data removed]",
      "text/plain": [
       "<Figure size 432x288 with 1 Axes>"
      ]
     },
     "metadata": {
      "needs_background": "light"
     },
     "output_type": "display_data"
    }
   ],
   "source": [
    "MfaceH = Dados.values.ravel()\n",
    "Erro = DadosErr.values.ravel()\n",
    "DimH = np.linspace(1, 10, 10)\n",
    "plt.title('Categorização de faces masculinas por mulheres')\n",
    "plt.plot(DimH, MfaceH, 'k.')\n",
    "plt.errorbar(DimH, MfaceH, fmt = 'none', yerr = Erro, capsize = 2, color = 'black')\n",
    "plt.xlabel('Dimensão da semelhança humana')\n",
    "plt.ylabel('Categorização como real')"
   ]
  },
  {
   "cell_type": "markdown",
   "metadata": {},
   "source": [
    "The logistic function has the following mathematical formula:\n",
    "\n",
    "$$f(x) = \\frac{A}{1 + e^{-B(x-C)}},$$\n",
    "\n",
    "the parameters $A$, $B$, $C$ define the shape of our logistic curve and will be the free parameters for fitting. $A$ tells us the height of the curve, that is, the $y$ value to where the function approaches, $B$ yields the slope of the increase, and finally $C$ gives us the displacement of the curve."
   ]
  },
  {
   "cell_type": "code",
   "execution_count": null,
   "metadata": {},
   "outputs": [],
   "source": [
    "Dados = MfaceH\n",
    "\n",
    "tDados = DimH\n",
    "\n",
    "confidence = 0.95\n",
    "\n",
    "def sig(t, A, B, C):\n",
    "    return A/(1 + np.exp(-B*(t - C)))\n",
    "\n",
    "\n",
    "postA = []\n",
    "postB = []\n",
    "postC = []\n",
    "\n",
    "for i in range(10000000):\n",
    "\n",
    "    A = np.random.normal(100, 1)\n",
    "    B = np.random.uniform(0, 4)\n",
    "    C = np.random.uniform(0, 10)\n",
    "    \n",
    "\n",
    "    if (np.sqrt(np.sum((Dados-sig(tDados, A, B, C))**2))/10 < 1):\n",
    "\n",
    "        postA.append(A)\n",
    "        postB.append(B)\n",
    "        postC.append(C)\n",
    "\n",
    "\n",
    "paramA = np.median(postA)\n",
    "paramB = np.median(postB)\n",
    "paramC = np.median(postC)\n",
    "paramBetaerr = np.std(postA)\n",
    "\n",
    "n = len(postA)\n",
    "std_err = stats.sem(postA)\n",
    "h = std_err * stats.t.ppf((1 + confidence) / 2, n - 1)\n",
    "startbeta = paramA - h\n",
    "endbeta = paramA + h\n",
    "print('A:',paramA)\n",
    "print ('A 95% confidence:','(',startbeta, endbeta,')')\n",
    "m = len(postB)\n",
    "std_err = stats.sem(postB)\n",
    "h = std_err * stats.t.ppf((1 + confidence) / 2, m - 1)\n",
    "startgamma = paramB - h\n",
    "endgamma = paramB + h\n",
    "print('B:',paramB)\n",
    "print ('B 95% confidence:','(',startgamma, endgamma,')')\n",
    "k = len(postC)\n",
    "std_err = stats.sem(postC)\n",
    "h = std_err * stats.t.ppf((1 + confidence) / 2, k - 1)\n",
    "startN = paramC - h\n",
    "endN = paramC + h\n",
    "print('C:',paramC)\n",
    "print ('C 95% confidence:','(',startN, endN,')')\n",
    "\n",
    "t = np.linspace(0,10,100)\n",
    "\n",
    "plt.scatter(tDados, Dados, 'k.', label = 'Data')\n",
    "plt.plot(t, sig(t, paramA, paramB, paramC),'b-', label = 'Logistic adjustment')\n",
    "plt.errorbar(tDados, Dados, fmt = 'none', yerr = Erro, capsize = 2, color = 'black')\n",
    "plt.xlabel('Dimension of Human Likeness')\n",
    "plt.ylabel('Categorized as Real')\n",
    "plt.title('Men categorizing male faces')\n",
    "plt.legend(loc='best')\n",
    "\n",
    "plt.hist(postB, 40, density=True)\n",
    "plt.hist(postA, 30, density=True)\n",
    "plt.hist(postC, 30, density=True)\n",
    "\n",
    "def lognormal(x, mean, std):\n",
    "    return 1/(x*std*np.sqrt(2*np.pi)) * np.exp(-(np.log(x)-mean)**2 /(2*std**2))\n",
    "\n",
    "bin_heights, bin_borders, _ = plt.hist(postB, bins=40, label='Probability density', density=True)\n",
    "bin_centers = bin_borders[:-1] + np.diff(bin_borders) / 2\n",
    "popt, pcov = curve_fit(lognormal, bin_centers, bin_heights, p0=[1, 1])\n",
    "\n",
    "x_interval_for_fit = np.linspace(bin_borders[0], bin_borders[-1], 10000)\n",
    "plt.plot(x_interval_for_fit, lognormal(x_interval_for_fit, *popt), label='Log-normal fit')\n",
    "plt.xlabel('Slope value')\n",
    "plt.ylabel('Probability density')\n",
    "plt.title('Men categorizing male faces')\n",
    "plt.legend()"
   ]
  },
  {
   "cell_type": "markdown",
   "metadata": {},
   "source": [
    "If you have any doubt reggarding this code, please e-mail me at pedrohpc96@hotmail.com with the subject GITHUB CODE UNCANNY VALLEY"
   ]
  },
  {
   "cell_type": "markdown",
   "metadata": {},
   "source": [
    "# That's all folks"
   ]
  }
 ],
 "metadata": {
  "kernelspec": {
   "display_name": "Python 3",
   "language": "python",
   "name": "python3"
  },
  "language_info": {
   "codemirror_mode": {
    "name": "ipython",
    "version": 3
   },
   "file_extension": ".py",
   "mimetype": "text/x-python",
   "name": "python",
   "nbconvert_exporter": "python",
   "pygments_lexer": "ipython3",
   "version": "3.7.4"
  }
 },
 "nbformat": 4,
 "nbformat_minor": 2
}
